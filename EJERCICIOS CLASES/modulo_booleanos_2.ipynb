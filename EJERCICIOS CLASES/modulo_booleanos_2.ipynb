{
 "cells": [
  {
   "cell_type": "code",
   "execution_count": 1,
   "metadata": {},
   "outputs": [
    {
     "name": "stdout",
     "output_type": "stream",
     "text": [
      "False\n"
     ]
    }
   ],
   "source": [
    "a = 9\n",
    "b = 8\n",
    "print(a==b)"
   ]
  },
  {
   "cell_type": "code",
   "execution_count": 2,
   "metadata": {},
   "outputs": [
    {
     "name": "stdout",
     "output_type": "stream",
     "text": [
      "True\n",
      "False\n",
      "False\n",
      "True\n",
      "False\n",
      "True\n",
      "True\n"
     ]
    }
   ],
   "source": [
    "juan = 20\n",
    "pedro = 19\n",
    "javier = 50\n",
    "junior = 1\n",
    "\n",
    "print(juan > pedro)\n",
    "print(juan > pedro < junior)\n",
    "print(juan < pedro > junior)\n",
    "print(junior < pedro < juan < javier)\n",
    "print(pedro + junior > juan)\n",
    "print(pedro + junior >= juan)\n",
    "print(juan - junior == pedro)"
   ]
  },
  {
   "cell_type": "code",
   "execution_count": 4,
   "metadata": {},
   "outputs": [
    {
     "name": "stdout",
     "output_type": "stream",
     "text": [
      "12\n",
      "False\n"
     ]
    },
    {
     "data": {
      "text/plain": [
       "bool"
      ]
     },
     "execution_count": 4,
     "metadata": {},
     "output_type": "execute_result"
    }
   ],
   "source": [
    "import math \n",
    "\n",
    "leones_zoo = 23\n",
    "Cuidadores_leones = 10\n",
    "\n",
    "cuidadores_requeridos = math.ceil(leones_zoo/2)\n",
    "\n",
    "print(cuidadores_requeridos)\n",
    "\n",
    "cumple_norma = Cuidadores_leones >= cuidadores_requeridos\n",
    "\n",
    "print(cumple_norma)\n",
    "\n",
    "type(cumple_norma)\n"
   ]
  },
  {
   "cell_type": "code",
   "execution_count": null,
   "metadata": {},
   "outputs": [
    {
     "data": {
      "text/plain": [
       "True"
      ]
     },
     "execution_count": 5,
     "metadata": {},
     "output_type": "execute_result"
    }
   ],
   "source": [
    "bañera = 500 #litros\n",
    "ritmo_bañera = 200 #litros\n",
    "\n",
    "Volumen_persona = 120 # litros volumen\n",
    "Volumen_bañera_2_horas=200*2\n",
    "\n",
    "Volumen_bañera_2_horas + Volumen_persona >= bañera"
   ]
  },
  {
   "cell_type": "markdown",
   "metadata": {},
   "source": [
    "Ejercitación\n",
    "\n",
    "Imagine que tiene una bañera cuya capacidad es de 500 litros, la puede\n",
    "llenar un ritmo de 200 litros por hora, pero tenga en cuenta que al llegar\n",
    "a su capacidad maxima el agua se desborda.\n",
    "\n",
    "Ahora usted quiere ingresar en la bañera sin que se desborde el agua,\n",
    "suponga que usted ocupa un volumen de 120 litros\n",
    "\n",
    "Para conocer si luego de 2 horas se puede meter a la bañera,\n",
    "escriba un programa que entregue la respuesta, recuerde crear\n",
    "variables por si alguna condición cambia en el tiempo.\n",
    "\n",
    "Si la altura de la bañera son 80 centímetros, agregar un sifón de\n",
    "desagüe a una altura de 70 centímetros, permite que al llenarla y\n",
    "meterse a la bañera el agua rebase el límite?"
   ]
  },
  {
   "cell_type": "code",
   "execution_count": null,
   "metadata": {},
   "outputs": [
    {
     "data": {
      "text/plain": [
       "False"
      ]
     },
     "execution_count": 8,
     "metadata": {},
     "output_type": "execute_result"
    }
   ],
   "source": [
    "bañera_capacidad = 500 #litros (límite, se desborda)\n",
    "bañera_altura = 80 #centimetros\n",
    "altura_cifón = 70 #centimetros\n",
    "ritmo_llenado_bañera = 200 #litros por hora\n",
    "\n",
    "Volumen_persona = 120 # litros volumen\n",
    "Volumen_bañera_2_horas=200*2\n",
    "\n",
    "Volumen_bañera_2_horas + Volumen_persona <= bañera_capacidad\n",
    "\n",
    "\n",
    "\n"
   ]
  },
  {
   "cell_type": "code",
   "execution_count": null,
   "metadata": {},
   "outputs": [],
   "source": [
    "bañera_capacidad = 500 #litros (límite, se desborda)\n",
    "bañera_altura = 80 #centimetros\n",
    "altura_cifón = 70 #centimetros\n",
    "ritmo_llenado_bañera = 200 #litros por hora\n",
    "\n",
    "Volumen_persona = 120 # litros volumen\n",
    "Volumen_bañera_2_horas=200*2\n",
    "\n",
    "agua_bañera = int(input(\"Agregar agua a la bañera:\"))\n",
    "\n",
    "if bañera_capacidad > 500:\n",
    "    print(\"Bañera desbordada\")\n",
    "else:\n",
    "    print(\"la bañera no está llena\")\n",
    "    \n",
    "\n",
    " \n"
   ]
  }
 ],
 "metadata": {
  "kernelspec": {
   "display_name": "Python 3",
   "language": "python",
   "name": "python3"
  },
  "language_info": {
   "codemirror_mode": {
    "name": "ipython",
    "version": 3
   },
   "file_extension": ".py",
   "mimetype": "text/x-python",
   "name": "python",
   "nbconvert_exporter": "python",
   "pygments_lexer": "ipython3",
   "version": "3.13.2"
  }
 },
 "nbformat": 4,
 "nbformat_minor": 2
}
